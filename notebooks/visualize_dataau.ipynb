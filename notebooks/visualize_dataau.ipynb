{
 "cells": [
  {
   "cell_type": "markdown",
   "metadata": {},
   "source": [
    "### Testing the Data Augmentations for the Training phase"
   ]
  },
  {
   "cell_type": "code",
   "execution_count": 4,
   "metadata": {},
   "outputs": [],
   "source": [
    "import sys\n",
    "sys.path.append('/home/maria/Documents/projects/anomaly_detection_study')"
   ]
  },
  {
   "cell_type": "code",
   "execution_count": null,
   "metadata": {},
   "outputs": [],
   "source": [
    "import matplotlib.pyplot as plt\n",
    "import random\n",
    "from data.field_train_dataset import FieldTrainDataset"
   ]
  },
  {
   "cell_type": "code",
   "execution_count": 18,
   "metadata": {},
   "outputs": [],
   "source": [
    "DATAU = 'realsyn'"
   ]
  },
  {
   "cell_type": "code",
   "execution_count": 19,
   "metadata": {},
   "outputs": [],
   "source": [
    "augmentation_tests = {\n",
    "    'perlin': '/home/maria/Documents/datasets/dtd/images/',\n",
    "    'cutpaste': None,\n",
    "    'realsyn': '/home/maria/Documents/datasets/coco_anomaly/',\n",
    "    'baseline': None  \n",
    "}\n",
    "\n",
    "if DATAU == 'baseline':\n",
    "    method = None\n",
    "    \n",
    "else:\n",
    "    method = DATAU"
   ]
  },
  {
   "cell_type": "code",
   "execution_count": null,
   "metadata": {},
   "outputs": [],
   "source": [
    "anomaly_source_dir = augmentation_tests[DATAU]\n",
    "image_dir = '/home/maria/Documents/dataset_splited/agco_dataset/train/'\n",
    "\n",
    "dataset_perlin = FieldTrainDataset(image_dir=image_dir, anomaly_source_dir=anomaly_source_dir, method=method)\n",
    "\n",
    "def visualize(dataset):\n",
    "    sample = dataset[random.randint(0, len(dataset) - 1)]\n",
    "\n",
    "    image = sample['image'].transpose(1, 2, 0) #.numpy()\n",
    "    print(type(image), image.max(), image.min(), image.shape)\n",
    "    augmented_image = sample['augmented_image'].transpose(1, 2, 0) #.numpy()\n",
    "    print(type(augmented_image), augmented_image.max(), augmented_image.min(), augmented_image.shape)\n",
    "    anomaly_mask = sample['anomaly_mask'].transpose(1, 2, 0).squeeze() #.numpy()\n",
    "    print(type(anomaly_mask), anomaly_mask.max(), anomaly_mask.min(), anomaly_mask.shape)\n",
    "\n",
    "    print(augmented_image.shape)\n",
    "    \n",
    "    plt.figure(figsize=(15, 5))\n",
    "\n",
    "    plt.subplot(1, 3, 1)\n",
    "    plt.imshow(image)\n",
    "    plt.title(\"Original Image\")\n",
    "    plt.axis('off')\n",
    "\n",
    "    plt.subplot(1, 3, 2)\n",
    "    plt.imshow(augmented_image)\n",
    "    plt.title(\"Augmented Image\")\n",
    "    plt.axis('off')\n",
    "\n",
    "    plt.subplot(1, 3, 3)\n",
    "    plt.imshow(anomaly_mask, cmap='gray')\n",
    "    plt.title(\"Anomaly Mask\")\n",
    "    plt.axis('off')\n",
    "\n",
    "    plt.show()\n",
    "\n",
    "visualize(dataset_perlin)\n",
    "\n",
    "\"\"\"\n",
    "before\n",
    "(256, 512, 3) (256, 512, 1) (1,)\n",
    "after\n",
    "(3, 256, 512) (1, 256, 512) (1,)\n",
    "(256, 512, 3)\n",
    "\"\"\""
   ]
  }
 ],
 "metadata": {
  "kernelspec": {
   "display_name": "draem",
   "language": "python",
   "name": "python3"
  },
  "language_info": {
   "codemirror_mode": {
    "name": "ipython",
    "version": 3
   },
   "file_extension": ".py",
   "mimetype": "text/x-python",
   "name": "python",
   "nbconvert_exporter": "python",
   "pygments_lexer": "ipython3",
   "version": "3.9.19"
  }
 },
 "nbformat": 4,
 "nbformat_minor": 2
}
